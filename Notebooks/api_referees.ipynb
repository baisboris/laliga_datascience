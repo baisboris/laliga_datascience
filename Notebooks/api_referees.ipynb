{
 "cells": [
  {
   "cell_type": "code",
   "execution_count": null,
   "id": "0f2e19bb",
   "metadata": {},
   "outputs": [],
   "source": [
    "import csv\n",
    "import requests\n",
    "from bs4 import BeautifulSoup"
   ]
  },
  {
   "cell_type": "code",
   "execution_count": null,
   "id": "1fbafcca",
   "metadata": {},
   "outputs": [],
   "source": [
    "# URL of the subreddit for the Spanish league matches\n",
    "url = 'https://www.reddit.com/r/LaLiga/"
   ]
  },
  {
   "cell_type": "code",
   "execution_count": null,
   "id": "b474c542",
   "metadata": {},
   "outputs": [],
   "source": []
  },
  {
   "cell_type": "code",
   "execution_count": null,
   "id": "7de64542",
   "metadata": {},
   "outputs": [],
   "source": []
  },
  {
   "cell_type": "code",
   "execution_count": null,
   "id": "2e557177",
   "metadata": {},
   "outputs": [],
   "source": []
  },
  {
   "cell_type": "code",
   "execution_count": null,
   "id": "8b123ace",
   "metadata": {},
   "outputs": [],
   "source": [
    "\n",
    "\n",
    "'\n",
    "\n",
    "# Send a GET request to the URL\n",
    "response = requests.get(url)\n",
    "\n",
    "# Parse the HTML content of the response using BeautifulSoup\n",
    "soup = BeautifulSoup(response.content, 'html.parser')\n",
    "\n",
    "# Find all the posts on the subreddit\n",
    "posts = soup.find_all('div', {'class': 'Post'})\n",
    "\n",
    "# Define the headers for the CSV file\n",
    "headers = ['Title', 'Author', 'Date', 'Score', 'Comments']\n",
    "\n",
    "# Create a new CSV file and write the headers to the first row\n",
    "with open('LaLiga_matches.csv', 'w', newline='') as csvfile:\n",
    "    writer = csv.writer(csvfile)\n",
    "    writer.writerow(headers)\n",
    "\n",
    "    # Loop through each post and extract relevant information\n",
    "    for post in posts:\n",
    "        title = post.find('h3', {'class': 's14d9dbv-0'}).text\n",
    "        author = post.find('a', {'class': 's1q9fhd0-8'}).text\n",
    "        date = post.find('a', {'class': 's1q9fhd0-9'}).text\n",
    "        score = post.find('div', {'class': 'Post__score'}).text\n",
    "        comments = post.find('a', {'class': 's1q9fhd0-5'}).text\n",
    "        \n",
    "        # Only write information for posts related to soccer matches to the CSV file\n",
    "        if 'match' in title.lower() or 'fixture' in title.lower():\n",
    "            row = [title, author, date, score, comments]\n",
    "            writer.writerow(row)"
   ]
  }
 ],
 "metadata": {
  "kernelspec": {
   "display_name": "Python 3 (ipykernel)",
   "language": "python",
   "name": "python3"
  },
  "language_info": {
   "codemirror_mode": {
    "name": "ipython",
    "version": 3
   },
   "file_extension": ".py",
   "mimetype": "text/x-python",
   "name": "python",
   "nbconvert_exporter": "python",
   "pygments_lexer": "ipython3",
   "version": "3.9.13"
  }
 },
 "nbformat": 4,
 "nbformat_minor": 5
}
