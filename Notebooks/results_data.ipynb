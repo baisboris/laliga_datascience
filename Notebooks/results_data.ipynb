{
 "cells": [
  {
   "cell_type": "code",
   "execution_count": 1,
   "id": "0282ec93",
   "metadata": {},
   "outputs": [],
   "source": [
    "#libraries\n",
    "import pandas as pd\n",
    "import matplotlib.pyplot as plt\n",
    "import numpy as np\n",
    "import seaborn as sns\n",
    "\n",
    "# Models:\n",
    "from sklearn.linear_model import LinearRegression\n",
    "from sklearn.linear_model import LogisticRegression\n",
    "from sklearn.svm import SVC\n",
    "from sklearn.tree import DecisionTreeClassifier\n",
    "from sklearn.ensemble import RandomForestRegressor\n",
    "from sklearn.ensemble import RandomForestClassifier\n",
    "from sklearn.ensemble import GradientBoostingRegressor\n",
    "from sklearn.model_selection import TimeSeriesSplit, cross_val_score\n",
    "\n",
    "from sklearn.model_selection import train_test_split\n",
    "\n",
    "\n",
    "from statsmodels.tsa.ar_model import AutoReg\n",
    "\n",
    "# sklearn's Feature Engineering tools:\n",
    "from sklearn.impute import SimpleImputer\n",
    "from sklearn.preprocessing import OneHotEncoder\n",
    "from sklearn.preprocessing import KBinsDiscretizer\n",
    "from sklearn.preprocessing import MinMaxScaler, StandardScaler, RobustScaler\n",
    "from statsmodels.tsa.ar_model import ar_select_order\n",
    "\n",
    "#metrics\n",
    "from sklearn.metrics import accuracy_score\n",
    "from sklearn.metrics import precision_score, recall_score, f1_score\n",
    "from sklearn.metrics import confusion_matrix\n",
    "from sklearn.metrics import ConfusionMatrixDisplay\n",
    "from sklearn.metrics import classification_report\n",
    "from sklearn.metrics import mean_squared_error, mean_absolute_error, r2_score\n",
    "\n",
    "# sklearn's Feature Engineering tools:\n",
    "from sklearn.impute import SimpleImputer\n",
    "from sklearn.preprocessing import OneHotEncoder\n",
    "from sklearn.preprocessing import KBinsDiscretizer\n",
    "from sklearn.preprocessing import MinMaxScaler, StandardScaler, RobustScaler\n",
    "\n",
    "# The Transformers:\n",
    "from sklearn.pipeline import Pipeline\n",
    "from sklearn.preprocessing import FunctionTransformer\n",
    "from sklearn.compose import ColumnTransformer\n",
    "\n",
    "# to visualize the column transformer and pipeline\n",
    "from sklearn import set_config\n",
    "set_config(display='diagram')\n",
    "\n",
    "%matplotlib inline\n",
    "from IPython import display\n",
    "\n",
    "from statsmodels.api import OLS, add_constant\n",
    "\n",
    "from sqlalchemy import create_engine\n",
    "\n",
    "plt.rcParams['figure.figsize']=(14,6)\n",
    "sns.set_style(\"whitegrid\")"
   ]
  },
  {
   "cell_type": "markdown",
   "id": "470e0f62",
   "metadata": {},
   "source": [
    "# Load results data"
   ]
  },
  {
   "cell_type": "code",
   "execution_count": null,
   "id": "86bfdbc7",
   "metadata": {},
   "outputs": [],
   "source": [
    "season0910=pd.read_csv('season-0910.csv', index_col=1, parse_dates=True)\n",
    "season1011=pd.read_csv('season-1011.csv', index_col=1, parse_dates=True)\n",
    "season1112=pd.read_csv('season-1112.csv', index_col=1, parse_dates=True)\n",
    "season1213=pd.read_csv('season-1213.csv', index_col=1, parse_dates=True)\n",
    "season1314=pd.read_csv('season-1314.csv', index_col=1, parse_dates=True)\n",
    "season1415=pd.read_csv('season-1415.csv', index_col=1, parse_dates=True)\n",
    "season1516=pd.read_csv('season-1516.csv', index_col=1, parse_dates=True)\n",
    "season1617=pd.read_csv('season-1617.csv', index_col=1, parse_dates=True)\n",
    "season1718=pd.read_csv('season-1718.csv', index_col=1, parse_dates=True)\n",
    "season1819=pd.read_csv('season-1819.csv', index_col=1, parse_dates=True)"
   ]
  },
  {
   "cell_type": "code",
   "execution_count": null,
   "id": "978aa156",
   "metadata": {},
   "outputs": [],
   "source": [
    "results = pd.concat([season0910, season1011, season1112, season1213, season1314, season1415, season1516, season1617, season1718, season1819])"
   ]
  },
  {
   "cell_type": "code",
   "execution_count": null,
   "id": "01089ef2",
   "metadata": {},
   "outputs": [],
   "source": [
    "results"
   ]
  },
  {
   "cell_type": "code",
   "execution_count": null,
   "id": "284994d0",
   "metadata": {},
   "outputs": [],
   "source": [
    "results['HomeTeam'].unique()"
   ]
  },
  {
   "cell_type": "code",
   "execution_count": null,
   "id": "53602e78",
   "metadata": {},
   "outputs": [],
   "source": [
    "results.columns"
   ]
  },
  {
   "cell_type": "code",
   "execution_count": null,
   "id": "aa89d1d5",
   "metadata": {},
   "outputs": [],
   "source": [
    "# keep selected columns\n",
    "selected_columns = ['HomeTeam', 'AwayTeam', 'FTR']\n",
    "results = results[selected_columns]\n",
    "\n",
    "# print result\n",
    "print(results.head())"
   ]
  },
  {
   "cell_type": "code",
   "execution_count": null,
   "id": "b0ec624f",
   "metadata": {},
   "outputs": [],
   "source": [
    "results"
   ]
  },
  {
   "cell_type": "code",
   "execution_count": null,
   "id": "b5ff5b71",
   "metadata": {},
   "outputs": [],
   "source": [
    "# Define a function to extract the season from the index\n",
    "def get_season(date_index):\n",
    "    year = date_index.year\n",
    "    if date_index.month < 8:\n",
    "        return f\"{year-1}-{year}\"\n",
    "    else:\n",
    "        return f\"{year}-{year+1}\""
   ]
  },
  {
   "cell_type": "code",
   "execution_count": null,
   "id": "3f2a478b",
   "metadata": {},
   "outputs": [],
   "source": [
    "# Apply the get_season function to the index to create a new Season column\n",
    "results['Season'] = results.index.map(get_season)"
   ]
  },
  {
   "cell_type": "code",
   "execution_count": null,
   "id": "b62eae90",
   "metadata": {},
   "outputs": [],
   "source": [
    "results"
   ]
  },
  {
   "cell_type": "code",
   "execution_count": null,
   "id": "2c3bd561",
   "metadata": {},
   "outputs": [],
   "source": [
    "# Define a dictionary to map the result letters to numbers\n",
    "result_dict = {'H': 0, 'D': 1, 'A': 2}\n",
    "\n",
    "# Apply the mapping to the Result column to create a new column called Result_Num\n",
    "results['Result_Num'] = results['FTR'].map(result_dict)"
   ]
  },
  {
   "cell_type": "code",
   "execution_count": null,
   "id": "f83c874f",
   "metadata": {},
   "outputs": [],
   "source": [
    "results"
   ]
  },
  {
   "cell_type": "code",
   "execution_count": null,
   "id": "5c974a6e",
   "metadata": {},
   "outputs": [],
   "source": [
    "# merge_data = pd.merge(seasons, budget, on='Team')"
   ]
  },
  {
   "cell_type": "code",
   "execution_count": null,
   "id": "a6089c41",
   "metadata": {},
   "outputs": [],
   "source": []
  }
 ],
 "metadata": {
  "kernelspec": {
   "display_name": "Python 3 (ipykernel)",
   "language": "python",
   "name": "python3"
  },
  "language_info": {
   "codemirror_mode": {
    "name": "ipython",
    "version": 3
   },
   "file_extension": ".py",
   "mimetype": "text/x-python",
   "name": "python",
   "nbconvert_exporter": "python",
   "pygments_lexer": "ipython3",
   "version": "3.9.13"
  }
 },
 "nbformat": 4,
 "nbformat_minor": 5
}
